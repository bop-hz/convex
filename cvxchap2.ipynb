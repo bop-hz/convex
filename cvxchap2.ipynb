{
 "cells": [
  {
   "cell_type": "markdown",
   "metadata": {},
   "source": [
    "# Convex sets\n",
    "## Affine sets\n",
    "A set $\\mathrm{C} \\subseteq \\mathrm{R}^n $ is affine if any $x_1, \\: x_2 \\in \\mathrm{C}$ and $\\theta \\in \\mathrm{R}$\n",
    "\\begin{equation}\n",
    "\\theta x_1 + (1-\\theta)x_2 \\in \\mathrm{C}\n",
    "\\end{equation}"
   ]
  },
  {
   "cell_type": "markdown",
   "metadata": {},
   "source": [
    "## Affine hull\n",
    "\\begin{equation}\n",
    "\\text{aff}\\: \\mathrm{C} = \\{\\theta_1 x_1+\\, \\cdots \\, + \\theta_k x_k \\: | x_1, \\, \\cdots \\, x_k \\in \\mathrm{C}, \\: \\sum_i \\theta_i = 1\\}\n",
    "\\end{equation}"
   ]
  },
  {
   "cell_type": "markdown",
   "metadata": {},
   "source": [
    "## Affine dimension\n",
    "- **Affine dimension** of a set $\\mathrm{C}$ is the dimension of its affine hull.\n",
    "- If the affine dimension of a set $\\mathrm{C} \\subseteq \\mathrm{R}^n $ is less than $n$, then $\\textbf{aff}\\,C \\neq \\mathrm{R}^n $\n",
    "- **Relative interior**:\n",
    "\\begin{equation}\n",
    "\\textbf{relint}\\, \\mathrm{C} = \\{ x \\in \\mathrm{C} | B(x,r) \\cap \\textbf{aff}\\, \\mathrm{C} \\subseteq \\mathrm{C} \\, for some r>0 \\}\n",
    "\\end{equation}"
   ]
  },
  {
   "cell_type": "markdown",
   "metadata": {},
   "source": [
    "## Convex sets\n",
    "A set $\\mathrm{C}$ is convex. if for any $x_1, \\, x_2 \\in \\mathrm{C}$ and any $\\theta$ with $0 \\leq \\theta \\leq 1$, we have \n",
    "\\begin{equation}\n",
    "\\theta x_1+(1-\\theta) x_2 \\in \\mathrm{C}\n",
    "\\end{equation}"
   ]
  },
  {
   "cell_type": "markdown",
   "metadata": {},
   "source": [
    "### Corollary \n",
    " A set is convex if and only if its intersection with any line is convex."
   ]
  },
  {
   "cell_type": "markdown",
   "metadata": {},
   "source": [
    "*Proof*: \n",
    "- The set $\\mathrm{C}$ is convex and line $\\mathrm{l}$ is affine then the intersection of convex set and affine is convex.\n",
    "- Converse: Consider $x_1\\, x_2 \\in \\mathrm{C} $, we denote the line containing $x_1$ and $x_2$ as $\\mathrm{l}$. We denote $\\mathrm{S} = \\mathrm{C} \\cap \\mathrm{l}$ and we have $x_1\\, x_2 \\in \\mathrm{S} $. Since $\\mathrm{S}$ is convex, we have $\\theta x_1+(1-\\theta)x_2 \\in \\mathrm{S}, \\theta \\geq 0$. Therefore, we have $\\theta x_1+(1-\\theta)x_2 \\in \\mathrm{C}, \\theta \\geq 0$"
   ]
  },
  {
   "cell_type": "markdown",
   "metadata": {},
   "source": [
    "### Convex hull\n",
    "\\begin{equation}\n",
    "\\textbf{conv} \\, \\mathrm{C} = \\{ \\theta_1x_1+\\cdots+\\theta_k x_k \\, | x_i \\in \\mathrm{C}, \\, \\theta_i \\geq 0, \\, \\sum_i^k \\theta_i = 1  \\}\n",
    "\\end{equation}"
   ]
  },
  {
   "cell_type": "markdown",
   "metadata": {},
   "source": [
    "#### Corollary \n",
    "$\\textbf{conv}\\, \\mathrm{S}$ is the intersaction of all convex sets that containing $\\mathbf{S}$\n"
   ]
  },
  {
   "cell_type": "markdown",
   "metadata": {},
   "source": [
    "*Proof*\n",
    "1. $\\mathrm{S} \\subseteq \\textbf{conv}\\, \\mathrm{S}$ and $\\textbf{conv}\\, \\mathrm{S}$ is convex.\n",
    "2. For any convex set $\\mathrm{X}$, we have $\\textbf{conv}\\, \\mathrm{S} \\subseteq \\mathrm{X}$"
   ]
  },
  {
   "cell_type": "markdown",
   "metadata": {},
   "source": [
    "## Cones\n",
    "### Convex cone\n",
    "A set $\\mathrm{C}$ is a convex cone if for any $x_1, \\, x_2 \\in \\mathrm{C} $ and $\\theta_1, \\, \\theta_2 \\geq 0$, we have\n",
    "\\begin{equation}\n",
    "\\theta_1x_1+\\theta_2 x_2 \\in \\mathrm{C}\n",
    "\\end{equation}"
   ]
  },
  {
   "cell_type": "markdown",
   "metadata": {},
   "source": [
    "### Conic combination\n",
    "A point of the form $\\theta_1 x_1+\\cdots+\\theta_k x_k$ with $\\theta_1, \\, \\cdots, \\theta_k \\geq 0$ is called a conic combination."
   ]
  },
  {
   "cell_type": "markdown",
   "metadata": {},
   "source": [
    "### Conic hull\n",
    "Conic hull of a set $\\mathrm{C}$ is the set of all conic combination of points in $\\mathrm{C}$"
   ]
  },
  {
   "cell_type": "markdown",
   "metadata": {},
   "source": [
    "# Important Examples\n",
    "- The empty set $\\phi$, any single point and the whole space are affine (hence convex)\n",
    "- Any line is affine. If it passes through zero, it is a subspace, hence also a convex cone\n",
    "- A line segment is convex but not affine\n",
    "- A ray is convex but not affine. It is convex cone if the base is 0.\n",
    "- Any subspace is affine, and a conve cone"
   ]
  },
  {
   "cell_type": "markdown",
   "metadata": {},
   "source": [
    "## Hyperplanes and halfspaces\n",
    "A hyperplane is a set of the form \n",
    "\\begin{equation}\n",
    "\\{x|a^Tx=b \\}\n",
    "\\end{equation}\n",
    "and it can also be expressed as \n",
    "\\begin{equation}\n",
    "\\{x|x_0+a^{\\perp}\\}\n",
    "\\end{equation}\n",
    "with $a^Tx_0=b$\n",
    "### Halfspace\n",
    "- Closed halfspace: $\\{x|a^Tx \\leq b\\}$\n",
    "- Open halfspace: $\\{x|a^Tx < b\\}$"
   ]
  },
  {
   "cell_type": "markdown",
   "metadata": {},
   "source": [
    "## Euclidean balls and ellipsoids\n",
    "### Euclidean ball\n",
    "\\begin{equation}\n",
    "B(x_c,r) = \\{x|\\lVert x-x_c \\rVert_2 \\leq r \\}=\\{ x|(x-x_c)^T(x-x_c) \\leq r^2\\}\n",
    "\\end{equation}\n",
    "Other expression\n",
    "\\begin{equation}\n",
    "B(x_c,r) = \\{x_c+ru|\\lVert u \\rVert_2 \\leq 1\\}\n",
    "\\end{equation}\n",
    "### Ellipsoids\n",
    "\\begin{equation}\n",
    "\\epsilon = \\{ x| (x-x_c)^TP^{-1}(x-x_c) \\leq 1 \\}\n",
    "\\end{equation}\n",
    "where P is symmetric and positive definite.\n",
    "- Other expression\n",
    "\\begin{equation}\n",
    "\\epsilon = \\{x_c+Au | \\lVert u \\rVert_2 \\leq 1\\}\n",
    "\\end{equation}\n",
    "where $A=P^{1/2}$\n",
    "- Remark: if A is symetric positive semidefinite but sigular, it is called degenerate ellipsoid which is also convex."
   ]
  },
  {
   "cell_type": "markdown",
   "metadata": {},
   "source": [
    "## Norm balls and norm cones\n",
    "- Norm ball: $\\{x|\\lVert x-x_c \\rVert \\leq r\\}$ is convex.\n",
    "- Norm cone: \n",
    "\\begin{equation}\n",
    "\\mathrm{C} = \\{ (x,t) | \\lVert x \\rVert \\leq t\\}\n",
    "\\end{equation}\n",
    "is a convex cone."
   ]
  },
  {
   "cell_type": "markdown",
   "metadata": {},
   "source": [
    "## Polyhedra\n",
    "A polyhedron is defined as the solution set of a finite number of linear equalities and inequalities:\n",
    "\\begin{equation}\n",
    "\\mathrm{P} = \\{x| a_j^Tx \\leq b_j, j=1, \\: \\cdots,m, \\: c_j^Tx=d_j,\\: j=1, \\cdots, P\\}\n",
    "\\end{equation}\n",
    "A bounded polyhedron is called a polytope.\n",
    "### Simplexes\n",
    "Suppose the $k+1$ points $v_0, \\, \\cdots, v_k \\in \\mathbf{R}^n$ are affinely independent. The simplex determined by them is given by\n",
    "\\begin{equation}\n",
    "\\mathcal{C} = \\mathbf{conv}\\{v_0,\\cdots,v_k\\}=\\{\\theta_0v_0+\\cdots+\\theta_kv_k|\\theta \\succcurlyeq0, \\: \\mathbf{1}^T \\theta = 1 \\}\n",
    "\\end{equation}\n",
    "### Express simplex as polyhedron\n",
    "Define $y=[\\theta_1,\\cdots,\\theta_k]^T$ and $B=[v_1-v_0,\\cdots,v_k-v_0]\\in \\mathbf{R}^{n \\times k}$, we can express $x \\in \\mathcal{C}$ as $x=v_0+BY$. As we know $\\text{Rank}B= k$. We can have full rank square matrix $A=\\begin{bmatrix} A_1 \\\\ A_2 \\end{bmatrix}$ that has $AB = \\begin{bmatrix} I \\\\ 0 \\end{bmatrix}$.   \n",
    "Thus, we have $A_1x=A_1v0+y$ and $A_2x=A_2v0$. And we can express the simplex as \n",
    "\\begin{equation}\n",
    "A_1x \\succcurlyeq 0 \\\\\n",
    "1^TA_1x \\leq A_1v_0+1 \\\\\n",
    "A_2x = A_2v_0\n",
    "\\end{equation}"
   ]
  },
  {
   "cell_type": "markdown",
   "metadata": {},
   "source": [
    "### Convex hull description of polyhedra\n",
    "- The conves hull is a polyhedron and bounded\n",
    "- The generalized convex hull $ \\{\\theta_1 v_1+ \\cdots+ \\theta_k v_k| \\theta_1+\\cdots+\\theta_m=1, \\: \\theta_i\\geq 0 \\: i=1,\\cdots,k\\}$ is a polyhedron. \n",
    "- Remark: The representation of polyhedron has important practical consequence.\n",
    "-- Example: $l_{\\infty}$ norm ball"
   ]
  },
  {
   "cell_type": "markdown",
   "metadata": {},
   "source": [
    "## The positive semidefinite cone\n",
    "The set $\\mathbf{S}_{+}^{n}$ is a convex cone"
   ]
  },
  {
   "cell_type": "markdown",
   "metadata": {},
   "source": [
    "# Operations taht preserve convexity\n",
    "## Intersection\n",
    "- Convexity is preserved under intersection\n",
    "- Remark: *every* closed convex set $\\mathcal{S}$ is a intersection of hlafspaces"
   ]
  },
  {
   "cell_type": "markdown",
   "metadata": {},
   "source": [
    "## Affine functions\n",
    "- Suppose $\\mathcal{S} \\subseteq \\mathcal{R}^n $ is convex and $f: \\: \\mathcal{R}^n \\rightarrow \\mathcal{R}^m$ is an affine function. Then the image of $\\mathcal{S}$ under $f$, \n",
    "\\begin{equation}\n",
    "f(\\mathcal{S}) = \\{ f(x) | x \\in \\mathcal{S} \\}\n",
    "\\end{equation}\n",
    "is convex.\n",
    "- If $f$ is an affine function, the inverse image of $\\mathcal{S}$ under $f$ is convex."
   ]
  },
  {
   "cell_type": "markdown",
   "metadata": {},
   "source": [
    "### Example\n",
    "- Hyperbolic cone. The set \n",
    "\\begin{equation}\n",
    "\\{ x | x^TPx \\leq (c^Tx)^2, c^Tx \\geq 0 \\}\n",
    "\\end{equation}\n",
    "where $P \\in \\mathcal{S}_+^{n}$ and $c \\in \\mathcal{R}^n$, is convex, since it is the inverse image of the second-order cone, \n",
    "\\begin{equation}\n",
    "\\{ (z,t) | z^Tz \\leq t^2, t \\geq 0\\},\n",
    "\\end{equation}\n",
    "under the affine function $f(x) = (P^{1/2}x,c^Tx)$"
   ]
  },
  {
   "cell_type": "markdown",
   "metadata": {},
   "source": [
    "## Linear-fractional and perspective functions\n",
    "### The perspective function\n",
    "The perspective function $\\mathcal{P}: \\: R^{n+1} \\rightarrow R^n$, with **dom** $\\mathcal{P}$=$R^n \\times R_{++}$, as $P(z,t) = z/t$\n",
    "- Remark: The perspective function as the action of a pin-hole camera. \n",
    "- If $C \\subseteq \\textbf{dom} P$ is convex, then its image \n",
    "\\begin{equation}\n",
    "P(C)=\\{P(x)|x \\in C\\}\n",
    "\\end{equation} is convex.\n",
    "\n",
    "- The inverse image of a convex set under the perspective function is also convex.\n",
    "### Linear-fractional function\n"
   ]
  },
  {
   "cell_type": "markdown",
   "metadata": {},
   "source": [
    "A linear-fractional function is formed by composing the perspective function with an affine function. Suppose $g:$ $R^n \\rightarrow R^{m}$ is affine\n",
    "\\begin{equation}\n",
    "g(x)=\\begin{bmatrix}\n",
    "A \\\\\n",
    "c^T\n",
    "\\end{bmatrix}x+\\begin{bmatrix}\n",
    "b \\\\\n",
    "d\n",
    "\\end{bmatrix}\n",
    "\\end{equation}\n",
    "The function $f:$ $f(x)=(Ax+b)/(c^tx+d)$, **dom** $f=\\{x| c^tx+d >0\\}$ is a linear-fractional function. \n",
    "- Linear-fractional function preserve convexity. "
   ]
  },
  {
   "cell_type": "markdown",
   "metadata": {},
   "source": [
    "## Generalized inequalities\n",
    "### Proper cones and generalized inequalities\n",
    "A cone $K \\subseteq R^n$ is called a proper cone if it satisfies following:\n",
    "- convex\n",
    "- closed\n",
    "- solid, i.e. nonempty interior\n",
    "- pointed, i.e. has no line\n",
    "#### Notation\n",
    "- $x \\preceq_{K} y \\Longleftrightarrow y-x \\in K$\n",
    "- $x \\prec_k y \\Longleftrightarrow y-x \\in \\textbf{int} K$\n",
    "### Properties of generalized inequalities\n",
    "- preserved under add\n",
    "- transitive\n",
    "- preserved under negative scaling\n",
    "- reflexive\n",
    "- antisymmmetric\n",
    "- preserved under limits"
   ]
  },
  {
   "cell_type": "markdown",
   "metadata": {},
   "source": [
    "## Minimum and minimal elements\n",
    "- Minimum point: A point $x \\in S$ is the minimum element of $S$ if and only if $ S\\subseteq x+K$\n",
    "- Minimal point: A point $x \\in S$ is the minimal element if and only if $(x-K) \\cap S = \\{x\\}$"
   ]
  },
  {
   "cell_type": "code",
   "execution_count": null,
   "metadata": {},
   "outputs": [],
   "source": []
  }
 ],
 "metadata": {
  "kernelspec": {
   "display_name": "Python 3",
   "language": "python",
   "name": "python3"
  },
  "language_info": {
   "codemirror_mode": {
    "name": "ipython",
    "version": 3
   },
   "file_extension": ".py",
   "mimetype": "text/x-python",
   "name": "python",
   "nbconvert_exporter": "python",
   "pygments_lexer": "ipython3",
   "version": "3.8.5"
  }
 },
 "nbformat": 4,
 "nbformat_minor": 4
}
