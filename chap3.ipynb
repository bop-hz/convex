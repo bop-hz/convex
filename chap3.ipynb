{
 "cells": [
  {
   "cell_type": "markdown",
   "metadata": {},
   "source": [
    "# Convex Functions\n",
    "## Definition\n",
    "A function $f$: $R^n \\rightarrow R$ is convex if **dom** $f$ is a convex set and if for all $x, \\, y \\in \\text{dom} f$, and $\\theta$ with $0 \\leq \\theta \\leq 1$, we have \n",
    "\\begin{equation}\n",
    "f(\\theta x +(1-\\theta)y) \\leq \\theta f(x) +(1-\\theta)f(y)\n",
    "\\end{equation}\n",
    "- Strictly convex: $ f(\\theta x +(1-\\theta)y) < \\theta f(x) +(1-\\theta)f(y)$. $f$ is convex and has greater curvature than linear function.\n",
    "- Strongly convex: with $m>0$: $f-m/2|x|^2$ is convex. In other word, $f$ has greater curvature than quadratic function. \n",
    "- **Remark**: $f$ is convex if and only if for all $x \\in \\text{dom} f$ and all $v$ , the function $g(t)=f(x+tv)$ is convex. "
   ]
  },
  {
   "cell_type": "markdown",
   "metadata": {},
   "source": [
    "## First-order condtions\n",
    "Suppose $f$ is differetiable then $f$ is convex if and only if **dom** $f$ is convex and \n",
    "\\begin{equation}\n",
    "f(y) \\geq f(x)+\\nabla f(x)^T(y-x)\n",
    "\\end{equation}\n",
    "*Proof*: \n",
    "- Proof the special case $n=1$\n",
    "- For general case: define $g(t)=f(ty+(1-t)x)$ and $g^{\\prime}(t)=\\nabla f(ty+(1-t)x)^T(y-x)$"
   ]
  },
  {
   "cell_type": "markdown",
   "metadata": {},
   "source": [
    "## Second-order conditions\n",
    "Assume $f$ is twice differentiable, then $f$ is convex and if and only if **dom** $f$ is convex and ist Hessian is positive semidefinite:\n",
    "\\begin{equation}\n",
    "\\nabla ^2 f(x) \\succcurlyeq 0 \n",
    "\\end{equation}\n",
    "*Proof*:\n",
    "- $n=1$: suppose $f(x)$ is convex then $f(t+y)-f(y) \\geq \\nabla f(y)t$, for $t>0$. So we have\n",
    "\\begin{equation}\n",
    "\\dfrac{(f(t+y)-f(y))/t-\\nabla f(y)}{t}\\geq 0\n",
    "\\end{equation}\n",
    "Thus, \n",
    "\\begin{equation}\n",
    "\\lim_{t\\rightarrow 0} \\dfrac{(f(t+y)-f(y))/t-\\nabla f(y)}{t} = \\nabla^2 f(y) \\geq 0\n",
    "\\end{equation}\n",
    "If we have $\\nabla^2 f(x) \\geq 0$, then we have\n",
    "\\begin{equation}\n",
    "\\nabla f(t+x) \\geq  \\nabla f(x), \\: for \\:  t \\geq 0\n",
    "\\end{equation}\n",
    "Integration with t from 0 to q, we have\n",
    "\\begin{equation}\n",
    "f(q+x)-f(x) \\geq \\nabla f(x)(x+q-x)\n",
    "\\end{equation}\n",
    "so that $f(x)$ is convex. \n",
    "- *Remark*: $f(x)$ is convex if and only if $(\\nabla f(x)-\\nabla f(y))^T(x-y) \\geq 0$\n",
    "- *Remark*: If $\\nabla^2 f(x) \\succ 0$ for all $ x \\in \\text{dom} f$, then $f$ is strictly convex. **Converse** is not true, e.g. $f(x)=x^4$.\n",
    "- *Remark*: The maximum of a convex function over a bounded  polyhedron must occur at one of its vertices.\n",
    "- *Proof*: Denote the vertices of the bounded polyhedron as $x_1,\\, x_2, \\, \\cdots, x_N$. We assume the maximum of $f(x)$ is achieved at $x_p = \\sum_{i=1} ^k \\, \\theta_i x_i$ with $\\sum_i \\theta_i =1 $ and $\\theta_i \\geq 0$. If the maximum can not be achieved at vertices. We have \n",
    "\\begin{equation}\n",
    "f(x_p) \\leq \\sum_i \\theta_i f(x_i) < \\sum \\theta_i f(x_p)= f(x_p)\n",
    "\\end{equation}\n",
    "which violates the assumption. So the maximum mush be achieved at one of its vertices. "
   ]
  },
  {
   "cell_type": "markdown",
   "metadata": {},
   "source": [
    "## Strong convex function \n",
    "Following statements are equivalent\n",
    "- $f$ is strongly convex with constant $m$\n",
    "- $(\\nabla f(x)- \\nabla f(y))^T(x-y) \\geq m|x-y|^2$\n",
    "- $ \\nabla ^2 f(x) \\succeq mI$\n",
    "- $ f(y) \\geq f(x) + \\nabla f(x)^T(y-x)+m/2|y-x|^2$"
   ]
  },
  {
   "cell_type": "markdown",
   "metadata": {},
   "source": [
    "## Lipschitz gradient\n",
    "A differentiable function $f$ is said to have an L-Lipschitz continuous gradient if for some $L>0$\n",
    "\\begin{equation}\n",
    "|\\nabla f(x)-\\nabla f(y)| \\leq L|x-y|\n",
    "\\end{equation}\n",
    "Let $f$ be convex and twice continuously differentiable. Following statements are equivalent:\n",
    "- $f$ is Lipschitz with constant L\n",
    "- $(\\nabla f(x)\\nabla f(y))^T(x-y) \\leq L|x-y|^2$\n",
    "- $\\nabla^2 f(x) \\preceq LI$\n",
    "- $L/2x^2-f(x)$ is convex\n",
    "- $f(y) \\leq f(x)+\\nabla f(x)^T(y-x)+L/2|y-x|^2$"
   ]
  },
  {
   "cell_type": "markdown",
   "metadata": {},
   "source": [
    "## Example of convex function \n",
    "- Exponential. $e^{ax}$ is convex\n",
    "- Powers. $x^a$ is convex on $R_{++}$ when $a \\geq 1$ or $ a \\leq 0$, and concave.\n",
    "- $|x|^p$, for $p \\geq 1$ is convex\n",
    "- $log x$ is concave\n",
    "- Negative entropy $xlog x$ is convex\n",
    "- Norms: every norm is convex\n",
    "- Max function: $f(x) =\\text{max}\\{x_1,\\cdots,x_n\\}$ is convex on $R^n$ \n",
    "- Quadratic-over-linear function $ f(x,y) = x^2/y, \\: y>0$ is convex\n",
    "- Log-sum-exp: $f(x)=log(e^{x_{1}}+\\cdots+e^{x_{n}})$ is convex, it is the analytical approximation of Max function.\n",
    "- Geometric mean is concave\n",
    "- Log-determinant: $f(X)= log \\, det(X)$ is concave on **dom** $f=S^n_{++}$"
   ]
  },
  {
   "cell_type": "markdown",
   "metadata": {},
   "source": [
    "## Sublevel Sets\n",
    "The $\\alpha$-sublevel set of a function $f$: $R^n \\rightarrow R$ is defined as \n",
    "\\begin{equation}\n",
    "C_{\\alpha} = \\{x \\in \\text{dom} f \\: | f(x) < \\alpha \\}\n",
    "\\end{equation}\n",
    "- Sublevel sets of a convex function are convex.\n",
    "- reverse is not true: e.g. $f(x)=-e^x$ is concave but sublevel sets are convex\n",
    "- If $f$ is concave, then its $\\alpha$-superlevel set is convex"
   ]
  },
  {
   "cell_type": "markdown",
   "metadata": {},
   "source": [
    "### Epigraph\n",
    "The *epigraph* of a function is defined as \n",
    "text{epi} \\, f = \\{(x,t)|x \\in \\text{dom} \\, f, \\: f(x) \\leq t\\}\n",
    "\\end{equation}\n",
    "A function is convex if and only if its epigraph is a convex set. \n",
    "### Hypograph\n",
    "\\begin{equation}\n",
    "\\text{hypo} \\, f = \\{ (x,t) \\, | t \\leq f(x) \\}\n",
    "\\end{equation}"
   ]
  },
  {
   "cell_type": "markdown",
   "metadata": {},
   "source": [
    "*Matrix fractional function* Thefunction $f$: $R^n \\times S^n \\rightarrow R$, defined as \n",
    "\\begin{equation}\n",
    "f(x,Y) = x^TY^{-1}x\n",
    "\\end{equation}\n",
    "is convex on **dom** $f=R^n \\times S_{++}^n$.\n",
    "*Proof*\n",
    "Consider **epi** f,\n",
    "\\begin{equation}\n",
    "\\text{epi} f = \\{(x,Y,t)|Y \\, \\succ \\, 0, x^TY^{-1}x \\leq t\\}=\\{ (x,Y,t)\\, | \\, \\begin{bmatrix} Y & x \\\\ x^T & t \\end{bmatrix} \\succeq 0, Y \\succ 0 \\}\n",
    "\\end{equation}\n",
    "The last condition is due to linear matrix inequality. \n"
   ]
  },
  {
   "cell_type": "markdown",
   "metadata": {},
   "source": [
    "## Schur complement \n",
    "Consider a matrix $X \\in S^n$ as $X= \\begin{bmatrix} A & B \\\\\n",
    "B^T & c \\end{bmatrix}$ where $A \\in S^k$. If det $A$ $\\neq 0$ .\n",
    "$S = C-B^TA^{-1}B$ is the Schur complement of $A$ in $X$. \n",
    "- $ X \\succ 0$ if and only if $A \\succ 0$ and $S\\succ 0$\n",
    "- If $A \\succ 0$, then $X \\succeq 0$ if and only if $S \\succeq 0$"
   ]
  },
  {
   "cell_type": "markdown",
   "metadata": {},
   "source": [
    "## Operations that preserve convexity\n",
    "- Nonnegative weighted sums\n",
    "- Composition with an affine mapping: $g(x)=f(Ax+b)$, if $f$ is convex/concave, $g$ is convex/concave. Use epi $f$ for prove.\n",
    "- If $f_1$ and $f_2$ are convex functions then their pointwise mximum function as\n",
    "\\begin{equation}\n",
    "f(x)=\\text{max}\\{f_1(x),f_2(x)\\}\n",
    "\\end{equation}\n",
    "is also convex.\n",
    "    * Piecewise-linear function: $f(x)=\\text{max}\\{a_1^Tx+b_1,\\, \\cdots,\\, a_L^Tx+b_L\\}$\n",
    "    any piexewise-linear convex function with $L$ or fewer regions can be expressed in this form.\n",
    "    * Sum of $r$ largest components is convex.\n",
    "- Pointwise supremum: If for each $y \\in \\mathcal{A}$, $f(x,y)$ is convex in $x$, then $g(x)=\\sup_{y \\in \\mathcal{A}}f(x,y)$\n",
    "    * *Remark*: $\\text{epi}\\: g = \\cap_{y\\in\\mathcal{A}}\\text{epi}\\:f(.,y)$\n",
    "    * *Example*: Distanc to farthest point of a set is convex\n",
    "    * *Example*: The function $f(x)=\\lambda_{max}(X)$, with dom $f=S^m$ is convex.\n",
    "### Representation as pointwise supremum of affine function "
   ]
  },
  {
   "cell_type": "code",
   "execution_count": null,
   "metadata": {},
   "outputs": [],
   "source": []
  }
 ],
 "metadata": {
  "kernelspec": {
   "display_name": "Python 3",
   "language": "python",
   "name": "python3"
  },
  "language_info": {
   "codemirror_mode": {
    "name": "ipython",
    "version": 3
   },
   "file_extension": ".py",
   "mimetype": "text/x-python",
   "name": "python",
   "nbconvert_exporter": "python",
   "pygments_lexer": "ipython3",
   "version": "3.8.5"
  }
 },
 "nbformat": 4,
 "nbformat_minor": 4
}
